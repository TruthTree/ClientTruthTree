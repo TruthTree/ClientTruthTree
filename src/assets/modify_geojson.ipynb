{
 "cells": [
  {
   "cell_type": "code",
   "execution_count": 1,
   "metadata": {},
   "outputs": [],
   "source": [
    "import pandas as pd\n",
    "import json\n",
    "from pprint import pprint\n",
    "from collections import defaultdict"
   ]
  },
  {
   "cell_type": "code",
   "execution_count": 2,
   "metadata": {},
   "outputs": [],
   "source": [
    "with open('./states_2010.json') as f:\n",
    "    data = json.load(f)"
   ]
  },
  {
   "cell_type": "code",
   "execution_count": 3,
   "metadata": {},
   "outputs": [],
   "source": [
    "csv_data = pd.read_csv(\n",
    "    './StateData.csv',\n",
    "    error_bad_lines=False\n",
    ")\n",
    "df = pd.DataFrame(csv_data)"
   ]
  },
  {
   "cell_type": "code",
   "execution_count": 4,
   "metadata": {},
   "outputs": [
    {
     "data": {
      "text/plain": [
       "52"
      ]
     },
     "execution_count": 4,
     "metadata": {},
     "output_type": "execute_result"
    }
   ],
   "source": [
    "# Note geojson file includes DC & Puerto Rico\n",
    "dataset = data['features']\n",
    "len(dataset)"
   ]
  },
  {
   "cell_type": "code",
   "execution_count": 5,
   "metadata": {},
   "outputs": [],
   "source": [
    "# state_names = []\n",
    "errors = []\n",
    "# for state in dataset:\n",
    "#     state_names.append(state['properties']['NAME'].lower())\n",
    "state_code_key = defaultdict()\n",
    "\n",
    "all_taxes = []\n",
    "all_taxes_by_total = []\n",
    "all_taxes_per_capita = []\n",
    "\n",
    "# Refactor this for loop with a helper function to take a single column name (instead of writing the column name 4 times each time)\n",
    "\n",
    "for state in dataset:\n",
    "    try:\n",
    "        df_state = df[(df['Name'].str.lower() == state['properties']['NAME'].lower()) & (df['Year4'] == 2016)]\n",
    "#         print(state['properties']['STATE'])\n",
    "#         print(int(df_state['State_Code']))\n",
    "        state_code_key[int(state['properties']['STATE'])] = int(df_state['State_Code'])\n",
    "        population = int(df_state.iloc[0]['Population'])\n",
    "        total_revenue = int(df_state.iloc[0]['Total_Revenue'])\n",
    "        total_expenditure = int(df_state.iloc[0]['Total_Expenditure'])\n",
    "        correct_total_exp = int(df_state.iloc[0]['Correct_Total_Exp'])\n",
    "        total_taxes = int(df_state.iloc[0]['Total_Taxes'])\n",
    "        all_taxes.append(total_taxes)\n",
    "        all_taxes_by_total.append(total_taxes/total_revenue)\n",
    "        all_taxes_per_capita.append(total_taxes/population)\n",
    "        state['properties']['population'] = population\n",
    "        state['properties']['total_revenue'] = total_revenue\n",
    "        state['properties']['total_expenditure'] = total_expenditure\n",
    "        state['properties']['selected_field'] = total_taxes\n",
    "        state['properties']['selected_field_as_fraction_of_total_rev'] = total_taxes/total_revenue\n",
    "        \n",
    "        state['properties']['selected_field_per_capita'] = total_taxes/population\n",
    "        \n",
    "    except:\n",
    "        errors.append((df['Name'].str.lower()))\n",
    "                      \n",
    "                      \n",
    "                      "
   ]
  },
  {
   "cell_type": "code",
   "execution_count": 45,
   "metadata": {},
   "outputs": [
    {
     "data": {
      "text/plain": [
       "{4: 3,\n",
       " 5: 4,\n",
       " 6: 5,\n",
       " 8: 6,\n",
       " 9: 7,\n",
       " 13: 11,\n",
       " 15: 12,\n",
       " 17: 14,\n",
       " 18: 15,\n",
       " 22: 19,\n",
       " 27: 24,\n",
       " 28: 25,\n",
       " 30: 27,\n",
       " 35: 32,\n",
       " 38: 35,\n",
       " 40: 37,\n",
       " 42: 39,\n",
       " 47: 43,\n",
       " 51: 47,\n",
       " 10: 8,\n",
       " 54: 49,\n",
       " 55: 50,\n",
       " 56: 51,\n",
       " 1: 1,\n",
       " 2: 2,\n",
       " 12: 10,\n",
       " 16: 13,\n",
       " 20: 17,\n",
       " 24: 21,\n",
       " 34: 31,\n",
       " 37: 34,\n",
       " 45: 41,\n",
       " 53: 48,\n",
       " 50: 46,\n",
       " 49: 45,\n",
       " 19: 16,\n",
       " 21: 18,\n",
       " 23: 20,\n",
       " 25: 22,\n",
       " 26: 23,\n",
       " 29: 26,\n",
       " 31: 28,\n",
       " 32: 29,\n",
       " 33: 30,\n",
       " 36: 33,\n",
       " 39: 36,\n",
       " 41: 38,\n",
       " 44: 40,\n",
       " 46: 42,\n",
       " 48: 44}"
      ]
     },
     "execution_count": 45,
     "metadata": {},
     "output_type": "execute_result"
    }
   ],
   "source": [
    "dict(state_code_key)"
   ]
  },
  {
   "cell_type": "code",
   "execution_count": 14,
   "metadata": {},
   "outputs": [
    {
     "data": {
      "text/plain": [
       "4.929166094287604"
      ]
     },
     "execution_count": 14,
     "metadata": {},
     "output_type": "execute_result"
    }
   ],
   "source": [
    "max(all_taxes_per_capita)\n"
   ]
  },
  {
   "cell_type": "code",
   "execution_count": 15,
   "metadata": {},
   "outputs": [
    {
     "data": {
      "text/plain": [
       "1.4113202028081124"
      ]
     },
     "execution_count": 15,
     "metadata": {},
     "output_type": "execute_result"
    }
   ],
   "source": [
    "min(all_taxes_per_capita)"
   ]
  },
  {
   "cell_type": "code",
   "execution_count": null,
   "metadata": {},
   "outputs": [],
   "source": [
    "# Max correct exp = 155231252\n",
    "# Min correct exp = 1042164\n",
    "# Max correct exp by total = .56\n",
    "# Min correct exp by total = .13\n",
    "# Max correct exp per capita = 4.93\n",
    "# Min correct exp per capita = 1.4"
   ]
  },
  {
   "cell_type": "code",
   "execution_count": 48,
   "metadata": {},
   "outputs": [
    {
     "data": {
      "text/plain": [
       "['puerto rico']"
      ]
     },
     "execution_count": 48,
     "metadata": {},
     "output_type": "execute_result"
    }
   ],
   "source": [
    "errors"
   ]
  },
  {
   "cell_type": "code",
   "execution_count": 6,
   "metadata": {},
   "outputs": [],
   "source": [
    "data['features'] = dataset\n",
    "with open('./modified_states_2.json', 'w') as outfile:\n",
    "    json.dump(data, outfile)"
   ]
  },
  {
   "cell_type": "code",
   "execution_count": null,
   "metadata": {},
   "outputs": [],
   "source": []
  }
 ],
 "metadata": {
  "kernelspec": {
   "display_name": "Python 3",
   "language": "python",
   "name": "python3"
  },
  "language_info": {
   "codemirror_mode": {
    "name": "ipython",
    "version": 3
   },
   "file_extension": ".py",
   "mimetype": "text/x-python",
   "name": "python",
   "nbconvert_exporter": "python",
   "pygments_lexer": "ipython3",
   "version": "3.6.5"
  }
 },
 "nbformat": 4,
 "nbformat_minor": 2
}
