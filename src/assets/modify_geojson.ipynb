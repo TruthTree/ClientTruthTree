{
 "cells": [
  {
   "cell_type": "code",
   "execution_count": 1,
   "metadata": {},
   "outputs": [],
   "source": [
    "import pandas as pd\n",
    "import json\n",
    "from pprint import pprint"
   ]
  },
  {
   "cell_type": "code",
   "execution_count": 2,
   "metadata": {},
   "outputs": [],
   "source": [
    "with open('./states_2010.json') as f:\n",
    "    data = json.load(f)"
   ]
  },
  {
   "cell_type": "code",
   "execution_count": 3,
   "metadata": {},
   "outputs": [],
   "source": [
    "csv_data = pd.read_csv(\n",
    "    './StateData.csv',\n",
    "    error_bad_lines=False\n",
    ")\n",
    "df = pd.DataFrame(csv_data)"
   ]
  },
  {
   "cell_type": "code",
   "execution_count": 4,
   "metadata": {},
   "outputs": [
    {
     "data": {
      "text/plain": [
       "52"
      ]
     },
     "execution_count": 4,
     "metadata": {},
     "output_type": "execute_result"
    }
   ],
   "source": [
    "# Note geojson file includes DC & Puerto Rico\n",
    "dataset = data['features']\n",
    "len(dataset)"
   ]
  },
  {
   "cell_type": "code",
   "execution_count": 10,
   "metadata": {},
   "outputs": [],
   "source": [
    "# state_names = []\n",
    "errors = []\n",
    "# for state in dataset:\n",
    "#     state_names.append(state['properties']['NAME'].lower())\n",
    "\n",
    "\n",
    "all_correct_total_exp = []\n",
    "all_correct_by_total = []\n",
    "all_correct_per_capita = []\n",
    "\n",
    "# Refactor this for loop with a helper function to take a single column name (instead of writing the column name 4 times each time)\n",
    "\n",
    "for state in dataset:\n",
    "    try:\n",
    "        df_state = df[(df['Name'].str.lower() == state['properties']['NAME'].lower()) & (df['Year4'] == 2016)]\n",
    "#         pprint(state)\n",
    "        population = int(df_state.iloc[0]['Population'])\n",
    "        total_revenue = int(df_state.iloc[0]['Total_Revenue'])\n",
    "        total_expenditure = int(df_state.iloc[0]['Total_Expenditure'])\n",
    "        correct_total_exp = int(df_state.iloc[0]['Correct_Total_Exp'])\n",
    "        all_correct_total_exp.append(correct_total_exp)\n",
    "        all_correct_by_total.append(correct_total_exp/total_expenditure)\n",
    "        all_correct_per_capita.append(correct_total_exp/population)\n",
    "        state['properties']['population'] = population\n",
    "        state['properties']['total_revenue'] = total_revenue\n",
    "        state['properties']['total_expenditure'] = total_expenditure\n",
    "        state['properties']['correct_total_exp'] = correct_total_exp\n",
    "        state['properties']['correct_as_fraction_of_total_exp'] = correct_total_exp/total_expenditure\n",
    "        \n",
    "        state['properties']['correct_per_capita'] = correct_total_exp/population\n",
    "        \n",
    "    except:\n",
    "        errors.append((df['Name'].str.lower()))\n",
    "                      \n",
    "                      \n",
    "                      "
   ]
  },
  {
   "cell_type": "code",
   "execution_count": 13,
   "metadata": {},
   "outputs": [
    {
     "data": {
      "text/plain": [
       "0.4502012372161553"
      ]
     },
     "execution_count": 13,
     "metadata": {},
     "output_type": "execute_result"
    }
   ],
   "source": [
    "max(all_correct_per_capita)\n"
   ]
  },
  {
   "cell_type": "code",
   "execution_count": 14,
   "metadata": {},
   "outputs": [
    {
     "data": {
      "text/plain": [
       "0.08212717034493404"
      ]
     },
     "execution_count": 14,
     "metadata": {},
     "output_type": "execute_result"
    }
   ],
   "source": [
    "min(all_correct_per_capita)"
   ]
  },
  {
   "cell_type": "code",
   "execution_count": null,
   "metadata": {},
   "outputs": [],
   "source": [
    "# Max correct exp = 9528475\n",
    "# Min correct exp = 100955\n",
    "# Max correct exp by total = .033\n",
    "# Min correct exp by total = .012\n",
    "# Max correct exp per capita = .45\n",
    "# Min correct exp per capita = .08"
   ]
  },
  {
   "cell_type": "code",
   "execution_count": 48,
   "metadata": {},
   "outputs": [
    {
     "data": {
      "text/plain": [
       "['puerto rico']"
      ]
     },
     "execution_count": 48,
     "metadata": {},
     "output_type": "execute_result"
    }
   ],
   "source": [
    "errors"
   ]
  },
  {
   "cell_type": "code",
   "execution_count": 15,
   "metadata": {},
   "outputs": [],
   "source": [
    "data['features'] = dataset\n",
    "with open('./modified_states.json', 'w') as outfile:\n",
    "    json.dump(data, outfile)"
   ]
  },
  {
   "cell_type": "code",
   "execution_count": null,
   "metadata": {},
   "outputs": [],
   "source": []
  }
 ],
 "metadata": {
  "kernelspec": {
   "display_name": "Python 3",
   "language": "python",
   "name": "python3"
  },
  "language_info": {
   "codemirror_mode": {
    "name": "ipython",
    "version": 3
   },
   "file_extension": ".py",
   "mimetype": "text/x-python",
   "name": "python",
   "nbconvert_exporter": "python",
   "pygments_lexer": "ipython3",
   "version": "3.6.5"
  }
 },
 "nbformat": 4,
 "nbformat_minor": 2
}
